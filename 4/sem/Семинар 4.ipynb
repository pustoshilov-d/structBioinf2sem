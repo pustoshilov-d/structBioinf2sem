{
 "cells": [
  {
   "cell_type": "markdown",
   "id": "retired-nickname",
   "metadata": {},
   "source": [
    "### Докинг\n",
    "Подготовка модели"
   ]
  },
  {
   "cell_type": "code",
   "execution_count": 7,
   "id": "varying-norway",
   "metadata": {},
   "outputs": [],
   "source": [
    "import pypdb\n",
    "import nglview as nv\n",
    "import MDAnalysis as mda"
   ]
  },
  {
   "cell_type": "code",
   "execution_count": 9,
   "id": "demographic-bridges",
   "metadata": {},
   "outputs": [],
   "source": [
    "with open('2dpz.pdb','w') as f:\n",
    "    f.write(pypdb.get_pdb_file('2dpz'))"
   ]
  },
  {
   "cell_type": "code",
   "execution_count": 10,
   "id": "western-break",
   "metadata": {},
   "outputs": [
    {
     "output_type": "stream",
     "name": "stderr",
     "text": [
      "C:\\Programing\\Miniconda\\envs\\struct_bioinf\\lib\\site-packages\\MDAnalysis\\topology\\base.py:203: DeprecationWarning: `np.int` is a deprecated alias for the builtin `int`. To silence this warning, use `int` by itself. Doing this will not modify any behavior and is safe. When replacing `np.int`, you may wish to use e.g. `np.int64` or `np.int32` to specify the precision. If you wish to review your current use, check the release note link for additional information.\nDeprecated in NumPy 1.20; for more details and guidance: https://numpy.org/devdocs/release/1.20.0-notes.html#deprecations\n  residx = np.zeros_like(criteria[0], dtype=np.int)\nC:\\Programing\\Miniconda\\envs\\struct_bioinf\\lib\\site-packages\\MDAnalysis\\topology\\PDBParser.py:426: DeprecationWarning: `np.int` is a deprecated alias for the builtin `int`. To silence this warning, use `int` by itself. Doing this will not modify any behavior and is safe. When replacing `np.int`, you may wish to use e.g. `np.int64` or `np.int32` to specify the precision. If you wish to review your current use, check the release note link for additional information.\nDeprecated in NumPy 1.20; for more details and guidance: https://numpy.org/devdocs/release/1.20.0-notes.html#deprecations\n  atom_id = np.int(conect[6:11])\n"
     ]
    }
   ],
   "source": [
    "model=mda.Universe('2dpz.pdb')"
   ]
  },
  {
   "cell_type": "code",
   "execution_count": 11,
   "id": "changing-canberra",
   "metadata": {},
   "outputs": [
    {
     "output_type": "display_data",
     "data": {
      "text/plain": "NGLWidget()",
      "application/vnd.jupyter.widget-view+json": {
       "version_major": 2,
       "version_minor": 0,
       "model_id": "6faf1db0ad87485c9637ba04789767fe"
      }
     },
     "metadata": {}
    }
   ],
   "source": [
    "view=nv.show_mdanalysis(model)\n",
    "view.clear()\n",
    "view.add_cartoon()\n",
    "view.add_spacefill('TYL')\n",
    "view"
   ]
  },
  {
   "cell_type": "code",
   "execution_count": 12,
   "id": "recognized-carpet",
   "metadata": {},
   "outputs": [],
   "source": [
    "#для записи м.докинга надо удалить ремарки и хедеры\n",
    "model.trajectory.header=''\n",
    "model.trajectory.remarks=['']"
   ]
  },
  {
   "cell_type": "code",
   "execution_count": 13,
   "id": "fancy-teaching",
   "metadata": {},
   "outputs": [
    {
     "output_type": "stream",
     "name": "stderr",
     "text": [
      "C:\\Programing\\Miniconda\\envs\\struct_bioinf\\lib\\site-packages\\MDAnalysis\\core\\topologyattrs.py:2011: VisibleDeprecationWarning: Creating an ndarray from ragged nested sequences (which is a list-or-tuple of lists-or-tuples-or ndarrays with different lengths or shapes) is deprecated. If you meant to do this, you must specify 'dtype=object' when creating the ndarray.\n  np.array(sorted(unique_bonds)), 4)\nC:\\Programing\\Miniconda\\envs\\struct_bioinf\\lib\\site-packages\\MDAnalysis\\core\\topologyobjects.py:600: DeprecationWarning: `np.bool` is a deprecated alias for the builtin `bool`. To silence this warning, use `bool` by itself. Doing this will not modify any behavior and is safe. If you specifically wanted the numpy scalar type, use `np.bool_` here.\nDeprecated in NumPy 1.20; for more details and guidance: https://numpy.org/devdocs/release/1.20.0-notes.html#deprecations\n  guessed = np.asarray(guessed, dtype=np.bool)\n"
     ]
    }
   ],
   "source": [
    "model.select_atoms('protein').write('2dpz_protein_only.pdb')"
   ]
  },
  {
   "cell_type": "raw",
   "id": "demanding-broadcasting",
   "metadata": {},
   "source": [
    "conda install -c conda-forge pdb2pqr"
   ]
  },
  {
   "cell_type": "code",
   "execution_count": 6,
   "id": "distinct-camera",
   "metadata": {},
   "outputs": [
    {
     "output_type": "stream",
     "name": "stderr",
     "text": [
      "'pdb2pqr30.exe' is not recognized as an internal or external command,\noperable program or batch file.\n"
     ]
    }
   ],
   "source": [
    "#добавим атомы водорода ()\n",
    "!pdb2pqr30 --ff CHARMM 2dpz_protein_only.pdb 2dpz_protein_only_with_H.pdb"
   ]
  },
  {
   "cell_type": "code",
   "execution_count": 14,
   "id": "legitimate-shock",
   "metadata": {},
   "outputs": [
    {
     "output_type": "display_data",
     "data": {
      "text/plain": "NGLWidget()",
      "application/vnd.jupyter.widget-view+json": {
       "version_major": 2,
       "version_minor": 0,
       "model_id": "788e1067190e46749fbc113f569a17d5"
      }
     },
     "metadata": {}
    }
   ],
   "source": [
    "view=nv.show_file('2dpz_protein_only_with_H.pdb')\n",
    "view.add_hyperball()\n",
    "view"
   ]
  },
  {
   "cell_type": "code",
   "execution_count": null,
   "metadata": {},
   "outputs": [],
   "source": [
    "#после обработки в webina, с парацетомолом"
   ]
  },
  {
   "cell_type": "code",
   "execution_count": 16,
   "id": "express-laundry",
   "metadata": {},
   "outputs": [
    {
     "output_type": "stream",
     "name": "stderr",
     "text": [
      "C:\\Programing\\Miniconda\\envs\\struct_bioinf\\lib\\site-packages\\MDAnalysis\\topology\\guessers.py:80: UserWarning: Failed to guess the mass for the following atom types: A\n  warnings.warn(\"Failed to guess the mass for the following atom types: {}\".format(atom_type))\nC:\\Programing\\Miniconda\\envs\\struct_bioinf\\lib\\site-packages\\MDAnalysis\\topology\\guessers.py:80: UserWarning: Failed to guess the mass for the following atom types: HD\n  warnings.warn(\"Failed to guess the mass for the following atom types: {}\".format(atom_type))\nC:\\Programing\\Miniconda\\envs\\struct_bioinf\\lib\\site-packages\\MDAnalysis\\topology\\guessers.py:80: UserWarning: Failed to guess the mass for the following atom types: OA\n  warnings.warn(\"Failed to guess the mass for the following atom types: {}\".format(atom_type))\nC:\\Programing\\Miniconda\\envs\\struct_bioinf\\lib\\site-packages\\MDAnalysis\\topology\\base.py:203: DeprecationWarning: `np.int` is a deprecated alias for the builtin `int`. To silence this warning, use `int` by itself. Doing this will not modify any behavior and is safe. When replacing `np.int`, you may wish to use e.g. `np.int64` or `np.int32` to specify the precision. If you wish to review your current use, check the release note link for additional information.\nDeprecated in NumPy 1.20; for more details and guidance: https://numpy.org/devdocs/release/1.20.0-notes.html#deprecations\n  residx = np.zeros_like(criteria[0], dtype=np.int)\n"
     ]
    }
   ],
   "source": [
    "vina_results=mda.Universe('webina_out.pdbqt')"
   ]
  },
  {
   "cell_type": "code",
   "execution_count": 17,
   "id": "italian-finger",
   "metadata": {},
   "outputs": [
    {
     "output_type": "execute_result",
     "data": {
      "text/plain": [
       "array([ 1,  2,  3,  4,  5,  6,  7,  8,  9, 10, 11, 12, 13,  1,  2,  3,  4,\n",
       "        5,  6,  7,  8,  9, 10, 11, 12, 13,  1,  2,  3,  4,  5,  6,  7,  8,\n",
       "        9, 10, 11, 12, 13,  1,  2,  3,  4,  5,  6,  7,  8,  9, 10, 11, 12,\n",
       "       13,  1,  2,  3,  4,  5,  6,  7,  8,  9, 10, 11, 12, 13,  1,  2,  3,\n",
       "        4,  5,  6,  7,  8,  9, 10, 11, 12, 13,  1,  2,  3,  4,  5,  6,  7,\n",
       "        8,  9, 10, 11, 12, 13,  1,  2,  3,  4,  5,  6,  7,  8,  9, 10, 11,\n",
       "       12, 13,  1,  2,  3,  4,  5,  6,  7,  8,  9, 10, 11, 12, 13])"
      ]
     },
     "metadata": {},
     "execution_count": 17
    }
   ],
   "source": [
    "vina_results.atoms.ids"
   ]
  },
  {
   "cell_type": "code",
   "execution_count": 20,
   "id": "analyzed-realtor",
   "metadata": {},
   "outputs": [
    {
     "output_type": "display_data",
     "data": {
      "text/plain": "NGLWidget()",
      "application/vnd.jupyter.widget-view+json": {
       "version_major": 2,
       "version_minor": 0,
       "model_id": "bd1006c41e984312be8230e736a2c702"
      }
     },
     "metadata": {}
    },
    {
     "output_type": "display_data",
     "data": {
      "text/plain": "Tab(children=(Box(children=(Box(children=(Box(children=(Label(value='step'), IntSlider(value=1, min=-100)), la…",
      "application/vnd.jupyter.widget-view+json": {
       "version_major": 2,
       "version_minor": 0,
       "model_id": "cd5e88b8b39740fea898b7c9e14b06c9"
      }
     },
     "metadata": {}
    }
   ],
   "source": [
    "model=2\n",
    "view=nv.show_mdanalysis(vina_results.atoms[13*model:13*(model+1)],gui=True)\n",
    "# view.add_spacefill(color='blue')\n",
    "\n",
    "view.add_structure(nv.FileStructure('2dpz.pdb'))\n",
    "view.update_representation(1,2,color='blue')\n",
    "view"
   ]
  },
  {
   "cell_type": "code",
   "execution_count": 30,
   "id": "monetary-badge",
   "metadata": {},
   "outputs": [
    {
     "name": "stderr",
     "output_type": "stream",
     "text": [
      "C:\\Users\\Grigoriy\\miniconda3\\envs\\struct_bioinf\\lib\\site-packages\\MDAnalysis\\topology\\PDBParser.py:330: UserWarning: Element information is absent or missing for a few atoms. Elements attributes will not be populated.\n",
      "  warnings.warn(\"Element information is absent or missing for a few \"\n",
      "C:\\Users\\Grigoriy\\miniconda3\\envs\\struct_bioinf\\lib\\site-packages\\MDAnalysis\\topology\\base.py:203: DeprecationWarning: `np.int` is a deprecated alias for the builtin `int`. To silence this warning, use `int` by itself. Doing this will not modify any behavior and is safe. When replacing `np.int`, you may wish to use e.g. `np.int64` or `np.int32` to specify the precision. If you wish to review your current use, check the release note link for additional information.\n",
      "Deprecated in NumPy 1.20; for more details and guidance: https://numpy.org/devdocs/release/1.20.0-notes.html#deprecations\n",
      "  residx = np.zeros_like(criteria[0], dtype=np.int)\n"
     ]
    }
   ],
   "source": [
    "swissdock_results=mda.Universe('clusters.dock4.pdb')"
   ]
  },
  {
   "cell_type": "code",
   "execution_count": 32,
   "id": "measured-spouse",
   "metadata": {},
   "outputs": [
    {
     "data": {
      "text/plain": [
       "array([1854, 1855, 1856, 1857, 1858, 1859, 1860, 1861, 1862, 1863, 1864,\n",
       "       1865, 1866, 1867, 1868, 1869, 1870, 1871, 1872, 1873, 1854, 1855,\n",
       "       1856, 1857, 1858, 1859, 1860, 1861, 1862, 1863, 1864, 1865, 1866,\n",
       "       1867, 1868, 1869, 1870, 1871, 1872, 1873, 1854, 1855, 1856, 1857,\n",
       "       1858, 1859, 1860, 1861, 1862, 1863])"
      ]
     },
     "execution_count": 32,
     "metadata": {},
     "output_type": "execute_result"
    }
   ],
   "source": [
    "swissdock_results.atoms.ids[:50]"
   ]
  },
  {
   "cell_type": "code",
   "execution_count": 38,
   "id": "friendly-empire",
   "metadata": {},
   "outputs": [
    {
     "data": {
      "application/vnd.jupyter.widget-view+json": {
       "model_id": "7cf0be05e09d4b5e993780dfebc29a82",
       "version_major": 2,
       "version_minor": 0
      },
      "text/plain": [
       "NGLWidget()"
      ]
     },
     "metadata": {},
     "output_type": "display_data"
    }
   ],
   "source": [
    "model=20\n",
    "view=nv.show_mdanalysis(swissdock_results.atoms[20*model:20*(model+1)])\n",
    "view.add_structure(nv.FileStructure('2dpz.pdb'))\n",
    "view.update_representation(1,2,color='blue')\n",
    "view"
   ]
  },
  {
   "cell_type": "markdown",
   "id": "robust-warrior",
   "metadata": {},
   "source": [
    "# Protein - protein "
   ]
  },
  {
   "cell_type": "code",
   "execution_count": 21,
   "id": "informal-spirit",
   "metadata": {},
   "outputs": [
    {
     "output_type": "stream",
     "name": "stderr",
     "text": [
      "C:\\Programing\\Miniconda\\envs\\struct_bioinf\\lib\\site-packages\\MDAnalysis\\topology\\guessers.py:80: UserWarning: Failed to guess the mass for the following atom types: MN\n  warnings.warn(\"Failed to guess the mass for the following atom types: {}\".format(atom_type))\nC:\\Programing\\Miniconda\\envs\\struct_bioinf\\lib\\site-packages\\MDAnalysis\\topology\\base.py:203: DeprecationWarning: `np.int` is a deprecated alias for the builtin `int`. To silence this warning, use `int` by itself. Doing this will not modify any behavior and is safe. When replacing `np.int`, you may wish to use e.g. `np.int64` or `np.int32` to specify the precision. If you wish to review your current use, check the release note link for additional information.\nDeprecated in NumPy 1.20; for more details and guidance: https://numpy.org/devdocs/release/1.20.0-notes.html#deprecations\n  residx = np.zeros_like(criteria[0], dtype=np.int)\nC:\\Programing\\Miniconda\\envs\\struct_bioinf\\lib\\site-packages\\MDAnalysis\\topology\\PDBParser.py:426: DeprecationWarning: `np.int` is a deprecated alias for the builtin `int`. To silence this warning, use `int` by itself. Doing this will not modify any behavior and is safe. When replacing `np.int`, you may wish to use e.g. `np.int64` or `np.int32` to specify the precision. If you wish to review your current use, check the release note link for additional information.\nDeprecated in NumPy 1.20; for more details and guidance: https://numpy.org/devdocs/release/1.20.0-notes.html#deprecations\n  atom_id = np.int(conect[6:11])\n"
     ]
    }
   ],
   "source": [
    "with open('3lz0.pdb','w') as f:\n",
    "    f.write(pypdb.get_pdb_file('3lz0'))\n",
    "nucleosome=mda.Universe('3lz0.pdb')"
   ]
  },
  {
   "cell_type": "code",
   "execution_count": 23,
   "id": "accredited-impact",
   "metadata": {},
   "outputs": [
    {
     "output_type": "display_data",
     "data": {
      "text/plain": "NGLWidget()",
      "application/vnd.jupyter.widget-view+json": {
       "version_major": 2,
       "version_minor": 0,
       "model_id": "e72afe1392a0409bb0bd4e31ddf8d9bc"
      }
     },
     "metadata": {}
    },
    {
     "output_type": "display_data",
     "data": {
      "text/plain": "Tab(children=(Box(children=(Box(children=(Box(children=(Label(value='step'), IntSlider(value=1, min=-100)), la…",
      "application/vnd.jupyter.widget-view+json": {
       "version_major": 2,
       "version_minor": 0,
       "model_id": "a429c38c66d94577966ca3c3c3c4f4b7"
      }
     },
     "metadata": {}
    }
   ],
   "source": [
    "nv.show_mdanalysis(nucleosome,gui=True)\n"
   ]
  },
  {
   "cell_type": "code",
   "execution_count": 24,
   "id": "major-inside",
   "metadata": {},
   "outputs": [
    {
     "output_type": "stream",
     "name": "stderr",
     "text": [
      "C:\\Programing\\Miniconda\\envs\\struct_bioinf\\lib\\site-packages\\MDAnalysis\\core\\selection.py:521: DeprecationWarning: `np.bool` is a deprecated alias for the builtin `bool`. To silence this warning, use `bool` by itself. Doing this will not modify any behavior and is safe. If you specifically wanted the numpy scalar type, use `np.bool_` here.\n",
      "Deprecated in NumPy 1.20; for more details and guidance: https://numpy.org/devdocs/release/1.20.0-notes.html#deprecations\n",
      "  mask = np.zeros(len(group), dtype=np.bool)\n",
      "C:\\Programing\\Miniconda\\envs\\struct_bioinf\\lib\\site-packages\\MDAnalysis\\core\\topologyattrs.py:2011: VisibleDeprecationWarning: Creating an ndarray from ragged nested sequences (which is a list-or-tuple of lists-or-tuples-or ndarrays with different lengths or shapes) is deprecated. If you meant to do this, you must specify 'dtype=object' when creating the ndarray.\n",
      "  np.array(sorted(unique_bonds)), 4)\n",
      "C:\\Programing\\Miniconda\\envs\\struct_bioinf\\lib\\site-packages\\MDAnalysis\\core\\topologyobjects.py:600: DeprecationWarning: `np.bool` is a deprecated alias for the builtin `bool`. To silence this warning, use `bool` by itself. Doing this will not modify any behavior and is safe. If you specifically wanted the numpy scalar type, use `np.bool_` here.\n",
      "Deprecated in NumPy 1.20; for more details and guidance: https://numpy.org/devdocs/release/1.20.0-notes.html#deprecations\n",
      "  guessed = np.asarray(guessed, dtype=np.bool)\n"
     ]
    }
   ],
   "source": [
    "nucleosome.select_atoms('protein and segid A B').write('3lz0_AB.pdb')\n",
    "nucleosome.select_atoms('protein and segid E F').write('3lz0_EF.pdb')"
   ]
  },
  {
   "cell_type": "code",
   "execution_count": 25,
   "id": "designed-collective",
   "metadata": {},
   "outputs": [
    {
     "output_type": "display_data",
     "data": {
      "text/plain": "NGLWidget()",
      "application/vnd.jupyter.widget-view+json": {
       "version_major": 2,
       "version_minor": 0,
       "model_id": "ddc32168cbf14f47b23892f037501f90"
      }
     },
     "metadata": {}
    }
   ],
   "source": [
    "view=nv.show_file('3lz0_AB.pdb')\n",
    "view.add_structure(nv.FileStructure('3lz0_EF.pdb'))\n",
    "view"
   ]
  },
  {
   "cell_type": "code",
   "execution_count": 27,
   "id": "compatible-range",
   "metadata": {},
   "outputs": [
    {
     "output_type": "display_data",
     "data": {
      "text/plain": "NGLWidget()",
      "application/vnd.jupyter.widget-view+json": {
       "version_major": 2,
       "version_minor": 0,
       "model_id": "74547895ce7e429cbe190276f5b83cb6"
      }
     },
     "metadata": {}
    }
   ],
   "source": [
    "view=nv.show_file('3lz0_AB.pdb')\n",
    "view.add_structure(nv.FileStructure('3lz0_EF.pdb'))\n",
    "view.add_structure(nv.FileStructure('ligand_1.pdb'))\n",
    "view"
   ]
  },
  {
   "cell_type": "code",
   "execution_count": 28,
   "id": "domestic-hopkins",
   "metadata": {},
   "outputs": [],
   "source": [
    "view.clear()\n",
    "view[0].add_cartoon(color='grey')\n",
    "view[1].clear()\n",
    "view[1].add_cartoon(color='grey')\n",
    "view[2].clear()\n",
    "view[2].add_cartoon(color='red')"
   ]
  }
 ],
 "metadata": {
  "kernelspec": {
   "name": "python3",
   "display_name": "Python 3.7.10 64-bit ('struct_bioinf': conda)"
  },
  "language_info": {
   "codemirror_mode": {
    "name": "ipython",
    "version": 3
   },
   "file_extension": ".py",
   "mimetype": "text/x-python",
   "name": "python",
   "nbconvert_exporter": "python",
   "pygments_lexer": "ipython3",
   "version": "3.7.10"
  },
  "interpreter": {
   "hash": "c53486dc2b93579626ae88f828ec1c03db1e60dc69240d514c94864da1066f68"
  }
 },
 "nbformat": 4,
 "nbformat_minor": 5
}